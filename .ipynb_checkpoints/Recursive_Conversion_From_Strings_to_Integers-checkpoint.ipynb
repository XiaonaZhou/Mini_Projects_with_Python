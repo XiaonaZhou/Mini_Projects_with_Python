{
 "cells": [
  {
   "cell_type": "markdown",
   "metadata": {},
   "source": [
    "# Recursive Conversion From Strings to Integers"
   ]
  },
  {
   "cell_type": "markdown",
   "metadata": {},
   "source": [
    "When reading a file, Python reads the lines of text in the file as strings, even when the file clearly\n",
    "contains only numerical data. In this activity, we develop a function, named rec_int, that converts a positive integer, in the form of a string, to an integer type object, recursively. The output of rec_int(‘232’) should be the integer type object 232. When defining this function, I first considered two base cases, which are the string s contains no character or only one character. For strings that have more than two characters, I used the function rec_int on the first character and multiply it by 10^(len(s)-1) and apply rec_int to the rest of "
   ]
  },
  {
   "cell_type": "code",
   "execution_count": 1,
   "metadata": {},
   "outputs": [],
   "source": [
    "import math\n",
    "def rec_int(s):\n",
    "    if len(s)==0:\n",
    "        return 0\n",
    "    elif len(s)==1:\n",
    "        if s=='0':\n",
    "            return 0\n",
    "        elif s=='1':\n",
    "            return 1\n",
    "        elif s=='2':\n",
    "            return 2\n",
    "        elif s=='3':\n",
    "            return 3\n",
    "        elif s=='4':\n",
    "            return 4\n",
    "        elif s=='5':\n",
    "            return 5\n",
    "        elif s=='6':\n",
    "            return 6\n",
    "        elif s=='7':\n",
    "            return 7\n",
    "        elif s=='8':\n",
    "            return 8\n",
    "        elif s=='9':\n",
    "            return 9\n",
    "    else:\n",
    "        return rec_int(s[0])*10**(len(s)-1)+rec_int(s[1:])"
   ]
  },
  {
   "cell_type": "code",
   "execution_count": 2,
   "metadata": {},
   "outputs": [
    {
     "data": {
      "text/plain": [
       "888"
      ]
     },
     "execution_count": 2,
     "metadata": {},
     "output_type": "execute_result"
    }
   ],
   "source": [
    "rec_int('888')"
   ]
  },
  {
   "cell_type": "code",
   "execution_count": 3,
   "metadata": {},
   "outputs": [
    {
     "data": {
      "text/plain": [
       "int"
      ]
     },
     "execution_count": 3,
     "metadata": {},
     "output_type": "execute_result"
    }
   ],
   "source": [
    "type(rec_int('23456'))"
   ]
  },
  {
   "cell_type": "code",
   "execution_count": 4,
   "metadata": {},
   "outputs": [
    {
     "data": {
      "text/plain": [
       "346654323"
      ]
     },
     "execution_count": 4,
     "metadata": {},
     "output_type": "execute_result"
    }
   ],
   "source": [
    "rec_int('346654323')"
   ]
  },
  {
   "cell_type": "code",
   "execution_count": null,
   "metadata": {},
   "outputs": [],
   "source": []
  }
 ],
 "metadata": {
  "kernelspec": {
   "display_name": "Python 3",
   "language": "python",
   "name": "python3"
  },
  "language_info": {
   "codemirror_mode": {
    "name": "ipython",
    "version": 3
   },
   "file_extension": ".py",
   "mimetype": "text/x-python",
   "name": "python",
   "nbconvert_exporter": "python",
   "pygments_lexer": "ipython3",
   "version": "3.8.3"
  }
 },
 "nbformat": 4,
 "nbformat_minor": 4
}
