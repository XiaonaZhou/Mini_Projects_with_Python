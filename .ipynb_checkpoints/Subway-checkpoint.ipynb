{
 "cells": [
  {
   "cell_type": "markdown",
   "metadata": {},
   "source": [
    "# **Subway Rides**\n",
    "\n",
    "What is the lowest price you can pay to purchase the number of subway rides you need for the week? In this activity, we develop a function that determines the lowest cost to buy n subway rides to be taken in a 7-day period. We has two choice here, buy each ride individually, or buy unlimited number of rides for a 7-day\n",
    "period. 7-days pass costs $33, which is the same cost as 33/2.75=12 rides. If the number of rides in 7 days are greater than 12, that means we should buy the 7-days pass, vice versa.\n"
   ]
  },
  {
   "cell_type": "code",
   "execution_count": null,
   "metadata": {},
   "outputs": [],
   "source": [
    "Pass=33/2.75\n",
    "def rides(x):\n",
    "    if x < Pass:\n",
    "        print(\"DO NOT buy the 7-days pass! \"+ \"The lowest cost is $\"+str(x*2.75))\n",
    "    elif x > Pass:\n",
    "        print(\"Buy the 7-days pass! \"+\"The lowest cost is $33\")\n",
    "    else:\n",
    "        print(\"Do whatever you want! The cost is $33\")\n",
    "\n",
    "n=int(input(\"Enter the number of rides\"))\n",
    "rides(n)"
   ]
  },
  {
   "cell_type": "markdown",
   "metadata": {},
   "source": [
    "## Plotting the weekly cost in terms of the number of subway rides in two diﬀerent cases:\n",
    "\n",
    "case 1: purchase rides individually"
   ]
  },
  {
   "cell_type": "code",
   "execution_count": null,
   "metadata": {},
   "outputs": [],
   "source": [
    "import matplotlib.pyplot as plt\n",
    "for n in range(1,31,1):\n",
    "    plt.scatter(n,n*2.75)\n",
    "plt.xlabel('number of rides')\n",
    "plt.ylabel('cost (in $)')\n",
    "plt.title('Subway cost when purchase rides individually')\n",
    "plt.show()"
   ]
  },
  {
   "cell_type": "code",
   "execution_count": null,
   "metadata": {},
   "outputs": [],
   "source": [
    "for n in range(1,31,1):\n",
    "    plt.scatter(n,33)\n",
    "plt.xlabel('number of rides')\n",
    "plt.ylabel('cost (in $)')\n",
    "plt.title('Subway cost when purchase the unlimited number of subway rides for a 7-day period')\n",
    "plt.show()"
   ]
  },
  {
   "cell_type": "code",
   "execution_count": null,
   "metadata": {},
   "outputs": [],
   "source": []
  }
 ],
 "metadata": {
  "kernelspec": {
   "display_name": "Python 3",
   "language": "python",
   "name": "python3"
  },
  "language_info": {
   "codemirror_mode": {
    "name": "ipython",
    "version": 3
   },
   "file_extension": ".py",
   "mimetype": "text/x-python",
   "name": "python",
   "nbconvert_exporter": "python",
   "pygments_lexer": "ipython3",
   "version": "3.8.3"
  }
 },
 "nbformat": 4,
 "nbformat_minor": 4
}
