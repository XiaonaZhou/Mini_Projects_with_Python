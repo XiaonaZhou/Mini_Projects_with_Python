{
 "cells": [
  {
   "cell_type": "markdown",
   "metadata": {},
   "source": [
    "# A Population Model\n",
    "The goal of this activity is to estimate the population of female sheep in New Zealand in 1975 using\n",
    "the values in Table 1. Below is the relationship between sheeps at different age.\n",
    "* $S0_new = 0.045*S1_old+0.391*S2_old+0.472*S3_old+0.484*S4_old+0.546*S5_old+0.543*S6_old+0.502*S7_old+0.468*S8_old+0.459*S9_old+0.433*S10_old+0.421*S11_old$\n",
    "* $S1_new = 0.845*S0_old$\n",
    "* $S2_new = 0.975*S1_old$\n",
    "* $S3_new = 0.965*S2_old$\n",
    "* $S4_new = 0.950*S3_old$\n",
    "* $S5_new = 0.926*S4_old$\n",
    "* $S6_new = 0.895*S5_old$\n",
    "* $S7_new = 0.850*S6_old$\n",
    "* $S8_new = 0.786*S7_old$\n",
    "* $S9_new = 0.691*S8_old$\n",
    "* $S10_new = 0.561*S9_old$\n",
    "* $S11_new = 0.370*S10_old$\n",
    "\n",
    "To find the population at year 1975, I used a for loop to recompute the new population each year until I got to the appropriated year."
   ]
  },
  {
   "cell_type": "code",
   "execution_count": 1,
   "metadata": {},
   "outputs": [],
   "source": [
    "import matplotlib.pyplot as plt\n",
    "def sheep(n):\n",
    "    S0=[120]\n",
    "    S1=[156]\n",
    "    S2=[175]\n",
    "    S3=[201]\n",
    "    S4=[186]\n",
    "    S5=[153]\n",
    "    S6=[134]\n",
    "    S7=[126]\n",
    "    S8=[98]\n",
    "    S9=[76]\n",
    "    S10=[52]\n",
    "    S11=[22]\n",
    "    for i in range(n):\n",
    "        S0_old = S0[-1]\n",
    "        S1_old = S1[-1]\n",
    "        S2_old = S2[-1]\n",
    "        S3_old = S3[-1]\n",
    "        S4_old = S4[-1]\n",
    "        S5_old = S5[-1]\n",
    "        S6_old = S6[-1]\n",
    "        S7_old = S7[-1]\n",
    "        S8_old = S8[-1]\n",
    "        S9_old = S9[-1]\n",
    "        S10_old = S10[-1]\n",
    "        S11_old = S11[-1]\n",
    "        S0_new = 0.045*S1_old+0.391*S2_old+0.472*S3_old+0.484*S4_old+0.546*S5_old+0.543*S6_old+0.502*S7_old+0.468*S8_old+0.459*S9_old+0.433*S10_old+0.421*S11_old\n",
    "        S1_new = 0.845*S0_old\n",
    "        S2_new = 0.975*S1_old\n",
    "        S3_new = 0.965*S2_old\n",
    "        S4_new = 0.950*S3_old\n",
    "        S5_new = 0.926*S4_old\n",
    "        S6_new = 0.895*S5_old\n",
    "        S7_new = 0.850*S6_old\n",
    "        S8_new = 0.786*S7_old\n",
    "        S9_new = 0.691*S8_old\n",
    "        S10_new = 0.561*S9_old\n",
    "        S11_new = 0.370*S10_old\n",
    "        S0.append(S0_new)\n",
    "        S1.append(S1_new)\n",
    "        S2.append(S2_new)\n",
    "        S3.append(S3_new)\n",
    "        S4.append(S4_new)\n",
    "        S5.append(S5_new)\n",
    "        S6.append(S6_new)\n",
    "        S7.append(S7_new)\n",
    "        S8.append(S8_new)\n",
    "        S9.append(S9_new)\n",
    "        S10.append(S10_new)\n",
    "        S11.append(S11_new)\n",
    "    #return S0[-1]+S1[-1]+S2[-1]+S3[-1]+S4[-1]+S5[-1]+S6[-1]+S7[-1]+S8[-1]+S9[-1]+S10[-1]+S11[-1]\n",
    "    return S0,S1,S2,S3,S4,S5,S6,S7,S8,S9,S10,S11"
   ]
  },
  {
   "cell_type": "code",
   "execution_count": 2,
   "metadata": {},
   "outputs": [
    {
     "name": "stdout",
     "output_type": "stream",
     "text": [
      "Total population at year 1975 is 7247.401004420593\n"
     ]
    },
    {
     "data": {
      "text/plain": [
       "<matplotlib.legend.Legend at 0x21fd53b5d60>"
      ]
     },
     "execution_count": 2,
     "metadata": {},
     "output_type": "execute_result"
    },
    {
     "data": {
      "image/png": "[encoded data removed]",
      "text/plain": [
       "<Figure size 432x288 with 1 Axes>"
      ]
     },
     "metadata": {
      "needs_background": "light"
     },
     "output_type": "display_data"
    }
   ],
   "source": [
    "S0,S1,S2,S3,S4,S5,S6,S7,S8,S9,S10,S11=sheep(10)\n",
    "Total=S0[-1]+S1[-1]+S2[-1]+S3[-1]+S4[-1]+S5[-1]+S6[-1]+S7[-1]+S8[-1]+S9[-1]+S10[-1]+S11[-1]\n",
    "print(\"Total population at year 1975 is \"+str(Total))\n",
    "plt.scatter(range(11),S0,label=\"S0\")\n",
    "plt.scatter(range(11),S1,label=\"S1\")\n",
    "plt.scatter(range(11),S2,label=\"S2\")\n",
    "plt.scatter(range(11),S3,label=\"S3\")\n",
    "plt.scatter(range(11),S4,label=\"S4\")\n",
    "plt.scatter(range(11),S5,label=\"S5\")\n",
    "plt.scatter(range(11),S6,label=\"S6\")\n",
    "plt.scatter(range(11),S7,label=\"S7\")\n",
    "plt.scatter(range(11),S8,label=\"S8\")\n",
    "plt.scatter(range(11),S9,label=\"S9\")\n",
    "plt.scatter(range(11),S10,label=\"S10\")\n",
    "plt.scatter(range(11),S11,label=\"S11\")\n",
    "plt.legend()"
   ]
  },
  {
   "cell_type": "code",
   "execution_count": null,
   "metadata": {},
   "outputs": [],
   "source": []
  }
 ],
 "metadata": {
  "kernelspec": {
   "display_name": "Python 3",
   "language": "python",
   "name": "python3"
  },
  "language_info": {
   "codemirror_mode": {
    "name": "ipython",
    "version": 3
   },
   "file_extension": ".py",
   "mimetype": "text/x-python",
   "name": "python",
   "nbconvert_exporter": "python",
   "pygments_lexer": "ipython3",
   "version": "3.8.3"
  }
 },
 "nbformat": 4,
 "nbformat_minor": 4
}
