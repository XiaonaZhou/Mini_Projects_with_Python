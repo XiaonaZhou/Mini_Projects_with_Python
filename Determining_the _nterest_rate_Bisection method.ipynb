{
 "cells": [
  {
   "cell_type": "markdown",
   "metadata": {},
   "source": [
    "# Determining the interest rate\n",
    "The goal of this activity is to use the Bisection Method to determine the interest rate (to within\n",
    "an error of 0.0001) being charged in order to purchase this refrigerator. Assume that the interest\n",
    "rate is compounded monthly. I used bisection function and p_contributions_month function we developed in class to compute the interest rate. The starting principal is the cost of the refrigerator 1802.50 dollars. The monthly payment is 181.98 dollars. Numbers of payments is 23. You have to pay to Rent-A-Center 2383.04 dollars in the form of interest. The interest rate is 102.9%. You only need 10 months of simply saving 181.98 per month to buy\n",
    "the same refrigerator, which is a much better option. "
   ]
  },
  {
   "cell_type": "code",
   "execution_count": 1,
   "metadata": {},
   "outputs": [],
   "source": [
    "import math\n",
    "def bisection(a,b,f,err):\n",
    "    c=(a+b)/2\n",
    "    while c-a>err/2:\n",
    "        if f(c)==0:\n",
    "            return c\n",
    "        elif f(a)*f(c)>0:\n",
    "            a=c\n",
    "        else:\n",
    "            b=c\n",
    "        c=(a+b)/2\n",
    "    return c\n",
    "def p_contributions_month(r):\n",
    "    return (1802.50)*(1+r/12)**23-181.98*((1-(1+r/12)**23)/(-r/12))"
   ]
  },
  {
   "cell_type": "code",
   "execution_count": 2,
   "metadata": {},
   "outputs": [
    {
     "data": {
      "text/plain": [
       "1.0288266372680668"
      ]
     },
     "execution_count": 2,
     "metadata": {},
     "output_type": "execute_result"
    }
   ],
   "source": [
    "#interest rate\n",
    "bisection(0.0001,2,p_contributions_month,0.0001)"
   ]
  },
  {
   "cell_type": "code",
   "execution_count": 3,
   "metadata": {},
   "outputs": [],
   "source": [
    "r=1.0288266372680668\n",
    "p=1802.50*(1+r/12)**23-181.98*((1-(1+r/12)**23)/(-r/12))"
   ]
  },
  {
   "cell_type": "code",
   "execution_count": 4,
   "metadata": {},
   "outputs": [
    {
     "data": {
      "text/plain": [
       "-0.19633665137189382"
      ]
     },
     "execution_count": 4,
     "metadata": {},
     "output_type": "execute_result"
    }
   ],
   "source": [
    "p"
   ]
  },
  {
   "cell_type": "code",
   "execution_count": 5,
   "metadata": {},
   "outputs": [
    {
     "data": {
      "text/plain": [
       "2383.04"
      ]
     },
     "execution_count": 5,
     "metadata": {},
     "output_type": "execute_result"
    }
   ],
   "source": [
    "# the interest you pay\n",
    "181.98*23-1802.50"
   ]
  },
  {
   "cell_type": "code",
   "execution_count": 6,
   "metadata": {},
   "outputs": [
    {
     "data": {
      "text/plain": [
       "9.904934608198703"
      ]
     },
     "execution_count": 6,
     "metadata": {},
     "output_type": "execute_result"
    }
   ],
   "source": [
    "#the number of month you need to have 1802.50 if you save 181.98 per month\n",
    "1802.50/181.98"
   ]
  },
  {
   "cell_type": "code",
   "execution_count": null,
   "metadata": {},
   "outputs": [],
   "source": []
  }
 ],
 "metadata": {
  "kernelspec": {
   "display_name": "Python 3",
   "language": "python",
   "name": "python3"
  },
  "language_info": {
   "codemirror_mode": {
    "name": "ipython",
    "version": 3
   },
   "file_extension": ".py",
   "mimetype": "text/x-python",
   "name": "python",
   "nbconvert_exporter": "python",
   "pygments_lexer": "ipython3",
   "version": "3.8.3"
  }
 },
 "nbformat": 4,
 "nbformat_minor": 4
}
