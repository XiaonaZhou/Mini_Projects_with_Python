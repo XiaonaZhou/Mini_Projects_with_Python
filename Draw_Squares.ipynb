{
 "cells": [
  {
   "cell_type": "markdown",
   "metadata": {},
   "source": [
    "# Draw Squares\n",
    "The goal of this activity is to create a function, named square, that will draw squares of various\n",
    "sizes and colors on a blank (all white) image that is 100-by-100 pixels in size. We need to use mask here to \"color\" the lines that form the shape we want\n",
    "1. j==y and i<=x+side and i>=x will draw the first vertical line that form the square\n",
    "2. i==x and j<=y+side and j>=y will draw the top horizontal line\n",
    "3. j==y+side and i<=x+side and i>=x will draw the second vertical line\n",
    "4. i==x+side and j<=y+side and j>=y will drwa the bottom horizontal line\n",
    "\n",
    "Use these four steps to define mask and apply to our blank image, we will get the square we desire.\n",
    "\n",
    "To have the desire color, I use a if else statement. \n",
    "* canvas[mask]=[250,0,0], when color is red\n",
    "* canvas[mask]=[0,250,0], when color is green\n",
    "* canvas[mask]=[0,0,250], when color isblue"
   ]
  },
  {
   "cell_type": "code",
   "execution_count": 1,
   "metadata": {},
   "outputs": [],
   "source": [
    "import numpy as np\n",
    "import matplotlib.pyplot as plt"
   ]
  },
  {
   "cell_type": "code",
   "execution_count": 2,
   "metadata": {},
   "outputs": [],
   "source": [
    "canvas = np.array([[[255,255,255] for j in range(100)] for i in range(100)])\n",
    "\n",
    "def square(x,y,side,color):\n",
    "    if color=='red':\n",
    "        c=[250,0,0]\n",
    "    elif color=='green':\n",
    "        c=[0,250,0]\n",
    "    elif color=='blue':\n",
    "        c=[0,0,250]\n",
    "    mask=np.array([[(j==y and i<=x+side and i>=x) or (i==x and j<=y+side and j>=y)or (j==y+side and i<=x+side and i>=x) or (i==x+side and j<=y+side and j>=y)  for j in range(100) ]for i in range(100)])\n",
    "    canvas[mask]=c\n",
    "    #mask=np.array([[i==x and j<=y+side and j>=y  for j in range(100) ]for i in range(100)])\n",
    "square(2,4,50,'red')\n",
    "square(60,74,20,'green')\n",
    "square(20,40,50,'blue')"
   ]
  },
  {
   "cell_type": "code",
   "execution_count": 3,
   "metadata": {},
   "outputs": [
    {
     "data": {
      "text/plain": [
       "<matplotlib.image.AxesImage at 0x28757423160>"
      ]
     },
     "execution_count": 3,
     "metadata": {},
     "output_type": "execute_result"
    },
    {
     "data": {
      "image/png": "[encoded data removed]",
      "text/plain": [
       "<Figure size 432x288 with 1 Axes>"
      ]
     },
     "metadata": {
      "needs_background": "light"
     },
     "output_type": "display_data"
    }
   ],
   "source": [
    "plt.imshow(canvas, aspect='auto')"
   ]
  },
  {
   "cell_type": "code",
   "execution_count": 4,
   "metadata": {},
   "outputs": [
    {
     "data": {
      "text/plain": [
       "<matplotlib.image.AxesImage at 0x28757bf85b0>"
      ]
     },
     "execution_count": 4,
     "metadata": {},
     "output_type": "execute_result"
    },
    {
     "data": {
      "image/png": "[encoded data removed]",
      "text/plain": [
       "<Figure size 432x288 with 1 Axes>"
      ]
     },
     "metadata": {
      "needs_background": "light"
     },
     "output_type": "display_data"
    }
   ],
   "source": [
    "#notes for myself, please ignore.\n",
    "\n",
    "canvas = np.array([[[255,255,255] for j in range(100)] for i in range(100)])\n",
    "lx,ly,c=canvas.shape\n",
    "mask=np.array([[j==10 and i<=50 and i>=10 for j in range(ly) ]for i in range(lx)])\n",
    "canvas[mask]=[0,0,250]\n",
    "plt.imshow(canvas, aspect='auto')"
   ]
  },
  {
   "cell_type": "code",
   "execution_count": null,
   "metadata": {},
   "outputs": [],
   "source": []
  }
 ],
 "metadata": {
  "kernelspec": {
   "display_name": "Python 3",
   "language": "python",
   "name": "python3"
  },
  "language_info": {
   "codemirror_mode": {
    "name": "ipython",
    "version": 3
   },
   "file_extension": ".py",
   "mimetype": "text/x-python",
   "name": "python",
   "nbconvert_exporter": "python",
   "pygments_lexer": "ipython3",
   "version": "3.8.3"
  }
 },
 "nbformat": 4,
 "nbformat_minor": 4
}
