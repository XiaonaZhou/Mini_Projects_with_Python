{
 "cells": [
  {
   "cell_type": "markdown",
   "metadata": {},
   "source": [
    "# *Run-length Encoding*\n",
    "\n",
    "Run-length encoding is a simple method used to compress data in such a way that no information\n",
    "is lost (lossless). In this activity, we develop a function that computes the run-length encoding\n",
    "of a string. One way to do this is to use a for loop to iterate over the string entered and an if/else statment to count the number of time a letter occurred consecutively. I declare a variable as an empty string, and this varibale is used to hold the output before the for loop is ended. Within the for loop an if/else statement is used to check whether a letter is same as the one after it. If this is true, then one is added to the counter (variable c). If the statement is false, then I add this letter and the counter to the output variable and initialize the counter to one. This process repeat until the end of the string."
   ]
  },
  {
   "cell_type": "code",
   "execution_count": 1,
   "metadata": {},
   "outputs": [
    {
     "data": {
      "text/plain": [
       "'a16b14a4b6a6b5'"
      ]
     },
     "execution_count": 1,
     "metadata": {},
     "output_type": "execute_result"
    }
   ],
   "source": [
    "def rle(s):\n",
    "    outp_holder=''\n",
    "    s=s+' '\n",
    "    c_ter=1\n",
    "    for i in range(0,len(s)-1):\n",
    "        if s[i]==s[i+1]:\n",
    "            c_ter+=1\n",
    "        else:\n",
    "            outp_holder=outp_holder+s[i]+str(c_ter)\n",
    "            c_ter=1\n",
    "    return outp_holder\n",
    "rle('aaaaaaaaaaaaaaaabbbbbbbbbbbbbbaaaabbbbbbaaaaaabbbbb')"
   ]
  },
  {
   "cell_type": "code",
   "execution_count": 2,
   "metadata": {},
   "outputs": [
    {
     "data": {
      "text/plain": [
       "'a2b4a2s3f4'"
      ]
     },
     "execution_count": 2,
     "metadata": {},
     "output_type": "execute_result"
    }
   ],
   "source": [
    "rle('aabbbbaasssffff')"
   ]
  },
  {
   "cell_type": "code",
   "execution_count": 3,
   "metadata": {},
   "outputs": [
    {
     "data": {
      "text/plain": [
       "'527296s1d1f1s1f1s1h2d1h1d1h1d1h1d1h2d1h4d1'"
      ]
     },
     "execution_count": 3,
     "metadata": {},
     "output_type": "execute_result"
    }
   ],
   "source": [
    "rle(\"5577999999sdfsfshhdhdhdhdhhdhhhhd\")"
   ]
  },
  {
   "cell_type": "code",
   "execution_count": null,
   "metadata": {},
   "outputs": [],
   "source": []
  }
 ],
 "metadata": {
  "kernelspec": {
   "display_name": "Python 3",
   "language": "python",
   "name": "python3"
  },
  "language_info": {
   "codemirror_mode": {
    "name": "ipython",
    "version": 3
   },
   "file_extension": ".py",
   "mimetype": "text/x-python",
   "name": "python",
   "nbconvert_exporter": "python",
   "pygments_lexer": "ipython3",
   "version": "3.8.3"
  }
 },
 "nbformat": 4,
 "nbformat_minor": 4
}
