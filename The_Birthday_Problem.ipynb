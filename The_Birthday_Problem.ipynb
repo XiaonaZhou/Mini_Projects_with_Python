{
 "cells": [
  {
   "cell_type": "markdown",
   "metadata": {},
   "source": [
    "# The Birthday Problem\n",
    "Suppose that 15 people are gathered together in a room. What are the odds that two people in the\n",
    "room share the same birthday? In this activity, we will estimate this quantity and its generalization\n",
    "using simulations. To do the problem, I first generated a list that contains the numbers from 1 to 365 to represent the days in a year. Secondly, I used np.random.choice function to randomly pick N numbers from the list to represent people's birthday and kept the chosen number in a list called days. Next, I assigned the first element from days to a new list D. And then, I used a for loop to iterate over the list days and put all the unique values into list D. Lastly, I check the length of list D. If D contains 14 elements, we conclude that there are exactly two people share the same birthday in that room. I simulated the experiment 10000 times, and the probability of have at least two people share the same birthday within 15 people is about 25%"
   ]
  },
  {
   "cell_type": "code",
   "execution_count": 1,
   "metadata": {},
   "outputs": [],
   "source": [
    "import numpy as np"
   ]
  },
  {
   "cell_type": "code",
   "execution_count": 2,
   "metadata": {},
   "outputs": [],
   "source": [
    "def birth(N):\n",
    "    choice=[ i for i in range(1,366)]\n",
    "    days=np.random.choice(choice,size=N)\n",
    "    D=[days[0]]\n",
    "    for i in range(1,N):\n",
    "        if not days[i] in D:\n",
    "            D.append(days[i])\n",
    "    if len(D)<=N-1:\n",
    "        return 1\n",
    "    else:\n",
    "        return 0"
   ]
  },
  {
   "cell_type": "code",
   "execution_count": 3,
   "metadata": {},
   "outputs": [],
   "source": [
    "x=[birth(15) for i in range(1,10001)]"
   ]
  },
  {
   "cell_type": "code",
   "execution_count": 4,
   "metadata": {},
   "outputs": [
    {
     "data": {
      "text/plain": [
       "0.2545"
      ]
     },
     "execution_count": 4,
     "metadata": {},
     "output_type": "execute_result"
    }
   ],
   "source": [
    "sum(x)/len(x)"
   ]
  },
  {
   "cell_type": "code",
   "execution_count": null,
   "metadata": {},
   "outputs": [],
   "source": []
  }
 ],
 "metadata": {
  "kernelspec": {
   "display_name": "Python 3",
   "language": "python",
   "name": "python3"
  },
  "language_info": {
   "codemirror_mode": {
    "name": "ipython",
    "version": 3
   },
   "file_extension": ".py",
   "mimetype": "text/x-python",
   "name": "python",
   "nbconvert_exporter": "python",
   "pygments_lexer": "ipython3",
   "version": "3.8.3"
  }
 },
 "nbformat": 4,
 "nbformat_minor": 4
}
