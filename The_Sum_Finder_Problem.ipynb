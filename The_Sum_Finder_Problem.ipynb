{
 "cells": [
  {
   "cell_type": "markdown",
   "metadata": {},
   "source": [
    "# The Sum Finder Problem\n",
    "The goal of this activity is to use dynamic programming to answer the following question: given a\n",
    "set of positive integers $a_1, a_2, . . . , a_n$ and K, is there a sub-collection of the ais that sums up to K?\n",
    "* I started off by setting up a n by K matrix filled with 0s. x axis represents the sums, and y axis represent the set. I set the first column equal to one since we can alway get sum 0 by having an empty set. \n",
    "* I also set the $a_1th$ element on the first row equal to 1 since we can get sum $a_1$ if our set contains $a_1$\n",
    "* Next, I used nest for loops to determined which sums can be obtained by the set. I set the elements equal to the previous rows when $a_i$ is greater than the current column number. When $a_i$ is greater than the current column number, the element is equal to the max(the element of previous row at same column, the element of  previous row at (current column - $a_i$) column)\n",
    "* If the last element at the last row is equal to 1, the answer to the question is yes."
   ]
  },
  {
   "cell_type": "code",
   "execution_count": 3,
   "metadata": {},
   "outputs": [],
   "source": [
    "def Sum_Finder(a,K):\n",
    "    L=[[0 for j in range(0,K+1) ] for i in range(len(a))]\n",
    "    L[0][a[0]]=1\n",
    "    for i in range(0,len(a)):\n",
    "        L[i][0]=1\n",
    "    for i in range(1,len(a)):\n",
    "        for j in range(1,K+1):\n",
    "            if a[i]>j:\n",
    "                L[i][j]=L[i-1][j]\n",
    "            else:\n",
    "                L[i][j]= max(L[i-1][j],L[i-1][j-a[i]])\n",
    "    if L[len(a)-1][-1]==1:\n",
    "        print(\"Yes\")\n",
    "    return L"
   ]
  },
  {
   "cell_type": "code",
   "execution_count": 4,
   "metadata": {},
   "outputs": [
    {
     "name": "stdout",
     "output_type": "stream",
     "text": [
      "Yes\n"
     ]
    },
    {
     "data": {
      "text/plain": [
       "[[1, 0, 0, 0, 0, 1, 0, 0, 0, 0, 0, 0, 0, 0, 0, 0, 0, 0],\n",
       " [1, 0, 0, 0, 0, 1, 0, 0, 1, 0, 0, 0, 0, 1, 0, 0, 0, 0],\n",
       " [1, 0, 1, 0, 0, 1, 0, 1, 1, 0, 1, 0, 0, 1, 0, 1, 0, 0],\n",
       " [1, 0, 1, 0, 1, 1, 1, 1, 1, 1, 1, 1, 1, 1, 1, 1, 0, 1],\n",
       " [1, 0, 1, 0, 1, 1, 1, 1, 1, 1, 1, 1, 1, 1, 1, 1, 1, 1]]"
      ]
     },
     "execution_count": 4,
     "metadata": {},
     "output_type": "execute_result"
    }
   ],
   "source": [
    "Sum_Finder([5,8,2,4,6],17)"
   ]
  },
  {
   "cell_type": "code",
   "execution_count": null,
   "metadata": {},
   "outputs": [],
   "source": []
  }
 ],
 "metadata": {
  "kernelspec": {
   "display_name": "Python 3",
   "language": "python",
   "name": "python3"
  },
  "language_info": {
   "codemirror_mode": {
    "name": "ipython",
    "version": 3
   },
   "file_extension": ".py",
   "mimetype": "text/x-python",
   "name": "python",
   "nbconvert_exporter": "python",
   "pygments_lexer": "ipython3",
   "version": "3.8.3"
  }
 },
 "nbformat": 4,
 "nbformat_minor": 4
}
